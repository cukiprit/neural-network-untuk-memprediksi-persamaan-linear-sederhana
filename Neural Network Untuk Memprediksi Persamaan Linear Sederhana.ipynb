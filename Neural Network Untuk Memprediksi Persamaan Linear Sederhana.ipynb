{
  "nbformat": 4,
  "nbformat_minor": 0,
  "metadata": {
    "colab": {
      "name": "Neural Network untuk memprediksi persamaan linear sederhana.ipynb",
      "provenance": []
    },
    "kernelspec": {
      "name": "python3",
      "display_name": "Python 3"
    },
    "language_info": {
      "name": "python"
    }
  },
  "cells": [
    {
      "cell_type": "markdown",
      "metadata": {
        "id": "fc1s-09BkNUw"
      },
      "source": [
        "# Menggunakan Model Untuk Melakukan Prediksi"
      ]
    },
    {
      "cell_type": "markdown",
      "metadata": {
        "id": "wgYFDaYKrcoh"
      },
      "source": [
        "Membuat model untuk memprediksi persamaan linear sederhana di mana, atributnya adalah sebuah bilangan X dan labelnya bernilai 2X+2"
      ]
    },
    {
      "cell_type": "code",
      "metadata": {
        "id": "ACMn9XnUkI1A"
      },
      "source": [
        "import tensorflow as tf\n",
        "import numpy as np\n",
        "from tensorflow import keras"
      ],
      "execution_count": 1,
      "outputs": []
    },
    {
      "cell_type": "markdown",
      "metadata": {
        "id": "14v_XvkGlxj4"
      },
      "source": [
        "Membuat variabel yang berisi array dari library numpy"
      ]
    },
    {
      "cell_type": "code",
      "metadata": {
        "id": "4cYZpaX0lIZA"
      },
      "source": [
        "xs = np.array([1.0, 2.0, 3.0, 4.0, 5.0, 6.0], dtype=float)\n",
        "ys = np.array([4.0, 6.0, 8.0, 10.0, 12.0, 14.0], dtype=float)"
      ],
      "execution_count": 2,
      "outputs": []
    },
    {
      "cell_type": "markdown",
      "metadata": {
        "id": "NR2cAlOtn9Ca"
      },
      "source": [
        "membuat variabel model jaringan saraf tiruan yang mana berisi fungsi dari library tensorflow, yaitu tf.keras.Sequential"
      ]
    },
    {
      "cell_type": "code",
      "metadata": {
        "id": "vRxZySdXlgG-"
      },
      "source": [
        "model = tf.keras.Sequential(\n",
        "    [keras.layers.Dense(\n",
        "        units=1,\n",
        "        input_shape=[1]\n",
        "    )]\n",
        ")"
      ],
      "execution_count": 3,
      "outputs": []
    },
    {
      "cell_type": "markdown",
      "metadata": {
        "id": "dJCZiFp2pLnK"
      },
      "source": [
        "Menentukan optimizer dan loss dari model agar model bisa belajar. Saya menggunakan stochastic gradient descent sebagai optimizer dan mean squared error sebagai loss function dari model saya"
      ]
    },
    {
      "cell_type": "code",
      "metadata": {
        "id": "AburZ88ao7xG"
      },
      "source": [
        "model.compile(\n",
        "    optimizer='sgd',\n",
        "    loss='mean_squared_error'\n",
        ")"
      ],
      "execution_count": 4,
      "outputs": []
    },
    {
      "cell_type": "markdown",
      "metadata": {
        "id": "fWZEn2DyqEdp"
      },
      "source": [
        "Memanggil fungsi fit, fungsi tersebut ebrfungsi untuk menyuruh model kita untuk mempelajari hubungan antara atribut dan label pada dataset"
      ]
    },
    {
      "cell_type": "code",
      "metadata": {
        "colab": {
          "base_uri": "https://localhost:8080/"
        },
        "id": "MkNnHfcHptka",
        "outputId": "0c29fdf8-7695-47f9-c466-54822fc75386"
      },
      "source": [
        "model.fit(xs, ys, epochs=150)"
      ],
      "execution_count": 5,
      "outputs": [
        {
          "output_type": "stream",
          "text": [
            "Epoch 1/150\n",
            "1/1 [==============================] - 0s 490ms/step - loss: 243.6265\n",
            "Epoch 2/150\n",
            "1/1 [==============================] - 0s 6ms/step - loss: 112.8839\n",
            "Epoch 3/150\n",
            "1/1 [==============================] - 0s 4ms/step - loss: 52.3713\n",
            "Epoch 4/150\n",
            "1/1 [==============================] - 0s 5ms/step - loss: 24.3634\n",
            "Epoch 5/150\n",
            "1/1 [==============================] - 0s 7ms/step - loss: 11.3995\n",
            "Epoch 6/150\n",
            "1/1 [==============================] - 0s 7ms/step - loss: 5.3986\n",
            "Epoch 7/150\n",
            "1/1 [==============================] - 0s 6ms/step - loss: 2.6203\n",
            "Epoch 8/150\n",
            "1/1 [==============================] - 0s 6ms/step - loss: 1.3335\n",
            "Epoch 9/150\n",
            "1/1 [==============================] - 0s 10ms/step - loss: 0.7371\n",
            "Epoch 10/150\n",
            "1/1 [==============================] - 0s 5ms/step - loss: 0.4601\n",
            "Epoch 11/150\n",
            "1/1 [==============================] - 0s 5ms/step - loss: 0.3311\n",
            "Epoch 12/150\n",
            "1/1 [==============================] - 0s 6ms/step - loss: 0.2705\n",
            "Epoch 13/150\n",
            "1/1 [==============================] - 0s 19ms/step - loss: 0.2416\n",
            "Epoch 14/150\n",
            "1/1 [==============================] - 0s 4ms/step - loss: 0.2274\n",
            "Epoch 15/150\n",
            "1/1 [==============================] - 0s 4ms/step - loss: 0.2200\n",
            "Epoch 16/150\n",
            "1/1 [==============================] - 0s 5ms/step - loss: 0.2157\n",
            "Epoch 17/150\n",
            "1/1 [==============================] - 0s 5ms/step - loss: 0.2129\n",
            "Epoch 18/150\n",
            "1/1 [==============================] - 0s 6ms/step - loss: 0.2108\n",
            "Epoch 19/150\n",
            "1/1 [==============================] - 0s 6ms/step - loss: 0.2090\n",
            "Epoch 20/150\n",
            "1/1 [==============================] - 0s 5ms/step - loss: 0.2073\n",
            "Epoch 21/150\n",
            "1/1 [==============================] - 0s 5ms/step - loss: 0.2058\n",
            "Epoch 22/150\n",
            "1/1 [==============================] - 0s 5ms/step - loss: 0.2043\n",
            "Epoch 23/150\n",
            "1/1 [==============================] - 0s 6ms/step - loss: 0.2028\n",
            "Epoch 24/150\n",
            "1/1 [==============================] - 0s 5ms/step - loss: 0.2013\n",
            "Epoch 25/150\n",
            "1/1 [==============================] - 0s 6ms/step - loss: 0.1998\n",
            "Epoch 26/150\n",
            "1/1 [==============================] - 0s 5ms/step - loss: 0.1983\n",
            "Epoch 27/150\n",
            "1/1 [==============================] - 0s 5ms/step - loss: 0.1969\n",
            "Epoch 28/150\n",
            "1/1 [==============================] - 0s 6ms/step - loss: 0.1955\n",
            "Epoch 29/150\n",
            "1/1 [==============================] - 0s 6ms/step - loss: 0.1940\n",
            "Epoch 30/150\n",
            "1/1 [==============================] - 0s 22ms/step - loss: 0.1926\n",
            "Epoch 31/150\n",
            "1/1 [==============================] - 0s 8ms/step - loss: 0.1912\n",
            "Epoch 32/150\n",
            "1/1 [==============================] - 0s 6ms/step - loss: 0.1898\n",
            "Epoch 33/150\n",
            "1/1 [==============================] - 0s 5ms/step - loss: 0.1884\n",
            "Epoch 34/150\n",
            "1/1 [==============================] - 0s 5ms/step - loss: 0.1871\n",
            "Epoch 35/150\n",
            "1/1 [==============================] - 0s 5ms/step - loss: 0.1857\n",
            "Epoch 36/150\n",
            "1/1 [==============================] - 0s 8ms/step - loss: 0.1844\n",
            "Epoch 37/150\n",
            "1/1 [==============================] - 0s 10ms/step - loss: 0.1830\n",
            "Epoch 38/150\n",
            "1/1 [==============================] - 0s 6ms/step - loss: 0.1817\n",
            "Epoch 39/150\n",
            "1/1 [==============================] - 0s 4ms/step - loss: 0.1804\n",
            "Epoch 40/150\n",
            "1/1 [==============================] - 0s 4ms/step - loss: 0.1790\n",
            "Epoch 41/150\n",
            "1/1 [==============================] - 0s 4ms/step - loss: 0.1777\n",
            "Epoch 42/150\n",
            "1/1 [==============================] - 0s 6ms/step - loss: 0.1764\n",
            "Epoch 43/150\n",
            "1/1 [==============================] - 0s 5ms/step - loss: 0.1752\n",
            "Epoch 44/150\n",
            "1/1 [==============================] - 0s 5ms/step - loss: 0.1739\n",
            "Epoch 45/150\n",
            "1/1 [==============================] - 0s 5ms/step - loss: 0.1726\n",
            "Epoch 46/150\n",
            "1/1 [==============================] - 0s 7ms/step - loss: 0.1714\n",
            "Epoch 47/150\n",
            "1/1 [==============================] - 0s 6ms/step - loss: 0.1701\n",
            "Epoch 48/150\n",
            "1/1 [==============================] - 0s 7ms/step - loss: 0.1689\n",
            "Epoch 49/150\n",
            "1/1 [==============================] - 0s 6ms/step - loss: 0.1676\n",
            "Epoch 50/150\n",
            "1/1 [==============================] - 0s 6ms/step - loss: 0.1664\n",
            "Epoch 51/150\n",
            "1/1 [==============================] - 0s 6ms/step - loss: 0.1652\n",
            "Epoch 52/150\n",
            "1/1 [==============================] - 0s 5ms/step - loss: 0.1640\n",
            "Epoch 53/150\n",
            "1/1 [==============================] - 0s 6ms/step - loss: 0.1628\n",
            "Epoch 54/150\n",
            "1/1 [==============================] - 0s 6ms/step - loss: 0.1616\n",
            "Epoch 55/150\n",
            "1/1 [==============================] - 0s 6ms/step - loss: 0.1604\n",
            "Epoch 56/150\n",
            "1/1 [==============================] - 0s 7ms/step - loss: 0.1593\n",
            "Epoch 57/150\n",
            "1/1 [==============================] - 0s 14ms/step - loss: 0.1581\n",
            "Epoch 58/150\n",
            "1/1 [==============================] - 0s 4ms/step - loss: 0.1570\n",
            "Epoch 59/150\n",
            "1/1 [==============================] - 0s 7ms/step - loss: 0.1558\n",
            "Epoch 60/150\n",
            "1/1 [==============================] - 0s 4ms/step - loss: 0.1547\n",
            "Epoch 61/150\n",
            "1/1 [==============================] - 0s 4ms/step - loss: 0.1536\n",
            "Epoch 62/150\n",
            "1/1 [==============================] - 0s 4ms/step - loss: 0.1524\n",
            "Epoch 63/150\n",
            "1/1 [==============================] - 0s 4ms/step - loss: 0.1513\n",
            "Epoch 64/150\n",
            "1/1 [==============================] - 0s 4ms/step - loss: 0.1502\n",
            "Epoch 65/150\n",
            "1/1 [==============================] - 0s 3ms/step - loss: 0.1491\n",
            "Epoch 66/150\n",
            "1/1 [==============================] - 0s 5ms/step - loss: 0.1480\n",
            "Epoch 67/150\n",
            "1/1 [==============================] - 0s 5ms/step - loss: 0.1470\n",
            "Epoch 68/150\n",
            "1/1 [==============================] - 0s 4ms/step - loss: 0.1459\n",
            "Epoch 69/150\n",
            "1/1 [==============================] - 0s 4ms/step - loss: 0.1448\n",
            "Epoch 70/150\n",
            "1/1 [==============================] - 0s 4ms/step - loss: 0.1438\n",
            "Epoch 71/150\n",
            "1/1 [==============================] - 0s 4ms/step - loss: 0.1427\n",
            "Epoch 72/150\n",
            "1/1 [==============================] - 0s 4ms/step - loss: 0.1417\n",
            "Epoch 73/150\n",
            "1/1 [==============================] - 0s 4ms/step - loss: 0.1407\n",
            "Epoch 74/150\n",
            "1/1 [==============================] - 0s 4ms/step - loss: 0.1396\n",
            "Epoch 75/150\n",
            "1/1 [==============================] - 0s 4ms/step - loss: 0.1386\n",
            "Epoch 76/150\n",
            "1/1 [==============================] - 0s 4ms/step - loss: 0.1376\n",
            "Epoch 77/150\n",
            "1/1 [==============================] - 0s 4ms/step - loss: 0.1366\n",
            "Epoch 78/150\n",
            "1/1 [==============================] - 0s 5ms/step - loss: 0.1356\n",
            "Epoch 79/150\n",
            "1/1 [==============================] - 0s 4ms/step - loss: 0.1346\n",
            "Epoch 80/150\n",
            "1/1 [==============================] - 0s 4ms/step - loss: 0.1336\n",
            "Epoch 81/150\n",
            "1/1 [==============================] - 0s 4ms/step - loss: 0.1327\n",
            "Epoch 82/150\n",
            "1/1 [==============================] - 0s 5ms/step - loss: 0.1317\n",
            "Epoch 83/150\n",
            "1/1 [==============================] - 0s 4ms/step - loss: 0.1307\n",
            "Epoch 84/150\n",
            "1/1 [==============================] - 0s 6ms/step - loss: 0.1298\n",
            "Epoch 85/150\n",
            "1/1 [==============================] - 0s 5ms/step - loss: 0.1288\n",
            "Epoch 86/150\n",
            "1/1 [==============================] - 0s 4ms/step - loss: 0.1279\n",
            "Epoch 87/150\n",
            "1/1 [==============================] - 0s 5ms/step - loss: 0.1270\n",
            "Epoch 88/150\n",
            "1/1 [==============================] - 0s 4ms/step - loss: 0.1260\n",
            "Epoch 89/150\n",
            "1/1 [==============================] - 0s 4ms/step - loss: 0.1251\n",
            "Epoch 90/150\n",
            "1/1 [==============================] - 0s 5ms/step - loss: 0.1242\n",
            "Epoch 91/150\n",
            "1/1 [==============================] - 0s 4ms/step - loss: 0.1233\n",
            "Epoch 92/150\n",
            "1/1 [==============================] - 0s 4ms/step - loss: 0.1224\n",
            "Epoch 93/150\n",
            "1/1 [==============================] - 0s 4ms/step - loss: 0.1215\n",
            "Epoch 94/150\n",
            "1/1 [==============================] - 0s 5ms/step - loss: 0.1206\n",
            "Epoch 95/150\n",
            "1/1 [==============================] - 0s 4ms/step - loss: 0.1198\n",
            "Epoch 96/150\n",
            "1/1 [==============================] - 0s 4ms/step - loss: 0.1189\n",
            "Epoch 97/150\n",
            "1/1 [==============================] - 0s 4ms/step - loss: 0.1180\n",
            "Epoch 98/150\n",
            "1/1 [==============================] - 0s 4ms/step - loss: 0.1172\n",
            "Epoch 99/150\n",
            "1/1 [==============================] - 0s 5ms/step - loss: 0.1163\n",
            "Epoch 100/150\n",
            "1/1 [==============================] - 0s 4ms/step - loss: 0.1155\n",
            "Epoch 101/150\n",
            "1/1 [==============================] - 0s 4ms/step - loss: 0.1146\n",
            "Epoch 102/150\n",
            "1/1 [==============================] - 0s 4ms/step - loss: 0.1138\n",
            "Epoch 103/150\n",
            "1/1 [==============================] - 0s 4ms/step - loss: 0.1130\n",
            "Epoch 104/150\n",
            "1/1 [==============================] - 0s 5ms/step - loss: 0.1121\n",
            "Epoch 105/150\n",
            "1/1 [==============================] - 0s 4ms/step - loss: 0.1113\n",
            "Epoch 106/150\n",
            "1/1 [==============================] - 0s 4ms/step - loss: 0.1105\n",
            "Epoch 107/150\n",
            "1/1 [==============================] - 0s 4ms/step - loss: 0.1097\n",
            "Epoch 108/150\n",
            "1/1 [==============================] - 0s 4ms/step - loss: 0.1089\n",
            "Epoch 109/150\n",
            "1/1 [==============================] - 0s 4ms/step - loss: 0.1081\n",
            "Epoch 110/150\n",
            "1/1 [==============================] - 0s 4ms/step - loss: 0.1073\n",
            "Epoch 111/150\n",
            "1/1 [==============================] - 0s 5ms/step - loss: 0.1065\n",
            "Epoch 112/150\n",
            "1/1 [==============================] - 0s 4ms/step - loss: 0.1058\n",
            "Epoch 113/150\n",
            "1/1 [==============================] - 0s 4ms/step - loss: 0.1050\n",
            "Epoch 114/150\n",
            "1/1 [==============================] - 0s 4ms/step - loss: 0.1042\n",
            "Epoch 115/150\n",
            "1/1 [==============================] - 0s 4ms/step - loss: 0.1035\n",
            "Epoch 116/150\n",
            "1/1 [==============================] - 0s 4ms/step - loss: 0.1027\n",
            "Epoch 117/150\n",
            "1/1 [==============================] - 0s 149ms/step - loss: 0.1020\n",
            "Epoch 118/150\n",
            "1/1 [==============================] - 0s 6ms/step - loss: 0.1012\n",
            "Epoch 119/150\n",
            "1/1 [==============================] - 0s 4ms/step - loss: 0.1005\n",
            "Epoch 120/150\n",
            "1/1 [==============================] - 0s 4ms/step - loss: 0.0997\n",
            "Epoch 121/150\n",
            "1/1 [==============================] - 0s 4ms/step - loss: 0.0990\n",
            "Epoch 122/150\n",
            "1/1 [==============================] - 0s 4ms/step - loss: 0.0983\n",
            "Epoch 123/150\n",
            "1/1 [==============================] - 0s 3ms/step - loss: 0.0976\n",
            "Epoch 124/150\n",
            "1/1 [==============================] - 0s 4ms/step - loss: 0.0969\n",
            "Epoch 125/150\n",
            "1/1 [==============================] - 0s 4ms/step - loss: 0.0962\n",
            "Epoch 126/150\n",
            "1/1 [==============================] - 0s 4ms/step - loss: 0.0955\n",
            "Epoch 127/150\n",
            "1/1 [==============================] - 0s 4ms/step - loss: 0.0948\n",
            "Epoch 128/150\n",
            "1/1 [==============================] - 0s 4ms/step - loss: 0.0941\n",
            "Epoch 129/150\n",
            "1/1 [==============================] - 0s 7ms/step - loss: 0.0934\n",
            "Epoch 130/150\n",
            "1/1 [==============================] - 0s 13ms/step - loss: 0.0927\n",
            "Epoch 131/150\n",
            "1/1 [==============================] - 0s 11ms/step - loss: 0.0920\n",
            "Epoch 132/150\n",
            "1/1 [==============================] - 0s 6ms/step - loss: 0.0914\n",
            "Epoch 133/150\n",
            "1/1 [==============================] - 0s 15ms/step - loss: 0.0907\n",
            "Epoch 134/150\n",
            "1/1 [==============================] - 0s 4ms/step - loss: 0.0900\n",
            "Epoch 135/150\n",
            "1/1 [==============================] - 0s 4ms/step - loss: 0.0894\n",
            "Epoch 136/150\n",
            "1/1 [==============================] - 0s 4ms/step - loss: 0.0887\n",
            "Epoch 137/150\n",
            "1/1 [==============================] - 0s 4ms/step - loss: 0.0881\n",
            "Epoch 138/150\n",
            "1/1 [==============================] - 0s 3ms/step - loss: 0.0874\n",
            "Epoch 139/150\n",
            "1/1 [==============================] - 0s 4ms/step - loss: 0.0868\n",
            "Epoch 140/150\n",
            "1/1 [==============================] - 0s 4ms/step - loss: 0.0862\n",
            "Epoch 141/150\n",
            "1/1 [==============================] - 0s 4ms/step - loss: 0.0855\n",
            "Epoch 142/150\n",
            "1/1 [==============================] - 0s 4ms/step - loss: 0.0849\n",
            "Epoch 143/150\n",
            "1/1 [==============================] - 0s 4ms/step - loss: 0.0843\n",
            "Epoch 144/150\n",
            "1/1 [==============================] - 0s 4ms/step - loss: 0.0837\n",
            "Epoch 145/150\n",
            "1/1 [==============================] - 0s 10ms/step - loss: 0.0831\n",
            "Epoch 146/150\n",
            "1/1 [==============================] - 0s 4ms/step - loss: 0.0825\n",
            "Epoch 147/150\n",
            "1/1 [==============================] - 0s 4ms/step - loss: 0.0819\n",
            "Epoch 148/150\n",
            "1/1 [==============================] - 0s 4ms/step - loss: 0.0813\n",
            "Epoch 149/150\n",
            "1/1 [==============================] - 0s 4ms/step - loss: 0.0807\n",
            "Epoch 150/150\n",
            "1/1 [==============================] - 0s 4ms/step - loss: 0.0801\n"
          ],
          "name": "stdout"
        },
        {
          "output_type": "execute_result",
          "data": {
            "text/plain": [
              "<tensorflow.python.keras.callbacks.History at 0x7f1290ea5590>"
            ]
          },
          "metadata": {
            "tags": []
          },
          "execution_count": 5
        }
      ]
    },
    {
      "cell_type": "markdown",
      "metadata": {
        "id": "MiL9sjUpq11h"
      },
      "source": [
        "Ketika model telah dilatih, kita bisa menggunakan model tersebut untuk memprediksi data yang belum pernah dilihatnya menggunakan fungsi predict. Ketika saya menjalankan kode di bawah, hasil yang kita dapat seharusnya 22 karena 2(10) + 2 = 22\n",
        "\n",
        "**Kamu bisa mengubah angka 10.0 dengan angka lainnya**"
      ]
    },
    {
      "cell_type": "code",
      "metadata": {
        "colab": {
          "base_uri": "https://localhost:8080/"
        },
        "id": "YSz1ZTLSqt1R",
        "outputId": "8f970fab-17f7-4719-b79c-aea3c83c3a9a"
      },
      "source": [
        "print(model.predict([10.0]))"
      ],
      "execution_count": 6,
      "outputs": [
        {
          "output_type": "stream",
          "text": [
            "[[22.85869]]\n"
          ],
          "name": "stdout"
        }
      ]
    },
    {
      "cell_type": "markdown",
      "metadata": {
        "id": "BYkqb1iuroni"
      },
      "source": [
        "Hasil yang didapat dari jaringan saraf tiruan mendekati angka 22, itu karena jaringan saraf tiruan menghitung probabilitas. Pada kasus ini neural network mempelajari bahwa pola yang terdapat pada dataset kemungkinan 2X+2, namun dia juga belum pasti dengan itu. Sehingga hasil yang ditampilkan adalah kemungkinan hasil yang mendekati 22"
      ]
    }
  ]
}